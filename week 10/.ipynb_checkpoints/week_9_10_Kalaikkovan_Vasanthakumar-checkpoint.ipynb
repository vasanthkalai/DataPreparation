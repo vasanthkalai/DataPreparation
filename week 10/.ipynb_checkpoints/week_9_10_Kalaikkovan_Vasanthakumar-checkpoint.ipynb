{
 "cells": [
  {
   "cell_type": "markdown",
   "id": "dac27f23",
   "metadata": {},
   "source": [
    "## 1. Data Wrangling with Python: Activity11, page 320"
   ]
  },
  {
   "cell_type": "markdown",
   "id": "29b16153",
   "metadata": {},
   "source": [
    "#### Step 1: Connect to the supplied petsDB database:"
   ]
  },
  {
   "cell_type": "code",
   "execution_count": 18,
   "id": "c7c8f8cd",
   "metadata": {},
   "outputs": [],
   "source": [
    "import sqlite3"
   ]
  },
  {
   "cell_type": "code",
   "execution_count": 19,
   "id": "6d6fd817",
   "metadata": {},
   "outputs": [],
   "source": [
    "conn=sqlite3.connect('petsdb')"
   ]
  },
  {
   "cell_type": "code",
   "execution_count": 20,
   "id": "6302a806",
   "metadata": {},
   "outputs": [
    {
     "name": "stdout",
     "output_type": "stream",
     "text": [
      "True\n"
     ]
    }
   ],
   "source": [
    "# a tiny function to make sure the connection is successful\n",
    "\n",
    "def is_opened(conn):\n",
    "    try:\n",
    "        conn.execute('SELECT * FROM persons LIMIT 1')\n",
    "        return True\n",
    "    except:\n",
    "        print('Connection closed')\n",
    "        return False\n",
    "\n",
    "print(is_opened(conn))"
   ]
  },
  {
   "cell_type": "code",
   "execution_count": 21,
   "id": "527a30cb",
   "metadata": {},
   "outputs": [],
   "source": [
    "conn.close()"
   ]
  },
  {
   "cell_type": "code",
   "execution_count": 22,
   "id": "4c812ad4",
   "metadata": {},
   "outputs": [
    {
     "name": "stdout",
     "output_type": "stream",
     "text": [
      "Connection closed\n",
      "False\n"
     ]
    }
   ],
   "source": [
    "print(is_opened(conn))"
   ]
  },
  {
   "cell_type": "markdown",
   "id": "1250a891",
   "metadata": {},
   "source": [
    "#### Step 2: Find the different age groups in the persons database."
   ]
  },
  {
   "cell_type": "code",
   "execution_count": 23,
   "id": "1387c499",
   "metadata": {},
   "outputs": [],
   "source": [
    "conn = sqlite3.connect('petsdb')\n",
    "\n",
    "c = conn.cursor()"
   ]
  },
  {
   "cell_type": "code",
   "execution_count": 24,
   "id": "b4199ba3",
   "metadata": {},
   "outputs": [
    {
     "name": "stdout",
     "output_type": "stream",
     "text": [
      "We have 2 people aged 5\n",
      "We have 1 people aged 6\n",
      "We have 1 people aged 7\n",
      "We have 3 people aged 8\n",
      "We have 1 people aged 9\n",
      "We have 2 people aged 11\n",
      "We have 3 people aged 12\n",
      "We have 1 people aged 13\n",
      "We have 4 people aged 14\n",
      "We have 2 people aged 16\n",
      "We have 2 people aged 17\n",
      "We have 3 people aged 18\n",
      "We have 1 people aged 19\n",
      "We have 3 people aged 22\n",
      "We have 2 people aged 23\n",
      "We have 3 people aged 24\n",
      "We have 2 people aged 25\n",
      "We have 1 people aged 27\n",
      "We have 1 people aged 30\n",
      "We have 3 people aged 31\n",
      "We have 1 people aged 32\n",
      "We have 1 people aged 33\n",
      "We have 2 people aged 34\n",
      "We have 3 people aged 35\n",
      "We have 3 people aged 36\n",
      "We have 1 people aged 37\n",
      "We have 2 people aged 39\n",
      "We have 1 people aged 40\n",
      "We have 1 people aged 42\n",
      "We have 2 people aged 44\n",
      "We have 2 people aged 48\n",
      "We have 1 people aged 49\n",
      "We have 1 people aged 50\n",
      "We have 2 people aged 51\n",
      "We have 2 people aged 52\n",
      "We have 2 people aged 53\n",
      "We have 2 people aged 54\n",
      "We have 1 people aged 58\n",
      "We have 1 people aged 59\n",
      "We have 1 people aged 60\n",
      "We have 1 people aged 61\n",
      "We have 2 people aged 62\n",
      "We have 1 people aged 63\n",
      "We have 2 people aged 65\n",
      "We have 2 people aged 66\n",
      "We have 1 people aged 67\n",
      "We have 3 people aged 68\n",
      "We have 1 people aged 69\n",
      "We have 1 people aged 70\n",
      "We have 4 people aged 71\n",
      "We have 1 people aged 72\n",
      "We have 5 people aged 73\n",
      "We have 3 people aged 74\n"
     ]
    }
   ],
   "source": [
    "for ppl, age in c.execute('SELECT count(*), age FROM persons GROUP BY age'):\n",
    "    print('We have {} people aged {}'.format(ppl, age))"
   ]
  },
  {
   "cell_type": "markdown",
   "id": "9d184718",
   "metadata": {},
   "source": [
    "#### Step 3: Find the age group that has the maximum number of people."
   ]
  },
  {
   "cell_type": "code",
   "execution_count": 27,
   "id": "20d1799a",
   "metadata": {},
   "outputs": [
    {
     "name": "stdout",
     "output_type": "stream",
     "text": [
      "Highest number of people is 5 and came from 73 age group\n"
     ]
    }
   ],
   "source": [
    "for ppl, age in c.execute('SELECT count(*), age FROM persons GROUP BY age ORDER BY count(*) DESC'):\n",
    "    print('Highest number of people is {} and came from {} age group'.format(ppl, age))\n",
    "    break"
   ]
  },
  {
   "cell_type": "markdown",
   "id": "b35a538a",
   "metadata": {},
   "source": [
    "#### Step 4: Find the people who do not have a last name."
   ]
  },
  {
   "cell_type": "code",
   "execution_count": 28,
   "id": "21f18a48",
   "metadata": {},
   "outputs": [
    {
     "name": "stdout",
     "output_type": "stream",
     "text": [
      "(60,)\n"
     ]
    }
   ],
   "source": [
    "res = c.execute('SELECT count(*) FROM persons WHERE last_name IS null')\n",
    "for row in res:\n",
    "    print(row)"
   ]
  },
  {
   "cell_type": "markdown",
   "id": "f72204a8",
   "metadata": {},
   "source": [
    "#### Step 5: Find out how many people have more than one pet."
   ]
  },
  {
   "cell_type": "code",
   "execution_count": 29,
   "id": "7151e118",
   "metadata": {},
   "outputs": [
    {
     "name": "stdout",
     "output_type": "stream",
     "text": [
      "43 People has more than one pets\n"
     ]
    }
   ],
   "source": [
    "res = c.execute('SELECT count(*) FROM (SELECT count(owner_id) FROM pets GROUP BY owner_id HAVING count(owner_id) >1)')\n",
    "for row in res:\n",
    "    print('{} People has more than one pets'.format(row[0]))"
   ]
  },
  {
   "cell_type": "markdown",
   "id": "2dfb2d56",
   "metadata": {},
   "source": [
    "#### Step 6: Find out how many pets have received treatment."
   ]
  },
  {
   "cell_type": "code",
   "execution_count": 30,
   "id": "e94e7238",
   "metadata": {},
   "outputs": [
    {
     "name": "stdout",
     "output_type": "stream",
     "text": [
      "(36,)\n"
     ]
    }
   ],
   "source": [
    "res = c.execute('SELECT count(*) FROM pets WHERE treatment_done=1')\n",
    "for row in res:\n",
    "    print(row)"
   ]
  },
  {
   "cell_type": "markdown",
   "id": "0ffcef18",
   "metadata": {},
   "source": [
    "#### Step 7: Find out how many pets have received treatment and the type of pet is known."
   ]
  },
  {
   "cell_type": "code",
   "execution_count": 31,
   "id": "fb669398",
   "metadata": {},
   "outputs": [
    {
     "name": "stdout",
     "output_type": "stream",
     "text": [
      "(16,)\n"
     ]
    }
   ],
   "source": [
    "res = c.execute('SELECT count(*) FROM pets WHERE treatment_done=1 AND pet_type IS NOT null')\n",
    "for row in res:\n",
    "    print(row)"
   ]
  },
  {
   "cell_type": "markdown",
   "id": "196d43bc",
   "metadata": {},
   "source": [
    "#### Step 8: Find out how many pets are from the city called east port."
   ]
  },
  {
   "cell_type": "code",
   "execution_count": 35,
   "id": "be5ce145",
   "metadata": {},
   "outputs": [
    {
     "name": "stdout",
     "output_type": "stream",
     "text": [
      "(49,)\n"
     ]
    }
   ],
   "source": [
    "res = c.execute('SELECT count(*) FROM pets JOIN persons ON pets.owner_id = persons.id WHERE persons.city=\"east port\"')\n",
    "for row in res:\n",
    "    print(row)"
   ]
  },
  {
   "cell_type": "markdown",
   "id": "f0ca8d8b",
   "metadata": {},
   "source": [
    "#### Step 9: Find out how many pets are from the city called east port and who received a treatment."
   ]
  },
  {
   "cell_type": "code",
   "execution_count": 38,
   "id": "acf40015",
   "metadata": {},
   "outputs": [
    {
     "name": "stdout",
     "output_type": "stream",
     "text": [
      "(11,)\n"
     ]
    }
   ],
   "source": [
    "res = c.execute(\"SELECT count(*) FROM pets JOIN persons ON pets.owner_id = persons.id WHERE persons.city='east port' AND pets.treatment_done=1\")\n",
    "for row in res:\n",
    "    print(row)"
   ]
  },
  {
   "cell_type": "code",
   "execution_count": null,
   "id": "1c84255e",
   "metadata": {},
   "outputs": [],
   "source": []
  }
 ],
 "metadata": {
  "kernelspec": {
   "display_name": "Python 3",
   "language": "python",
   "name": "python3"
  },
  "language_info": {
   "codemirror_mode": {
    "name": "ipython",
    "version": 3
   },
   "file_extension": ".py",
   "mimetype": "text/x-python",
   "name": "python",
   "nbconvert_exporter": "python",
   "pygments_lexer": "ipython3",
   "version": "3.9.6"
  }
 },
 "nbformat": 4,
 "nbformat_minor": 5
}
