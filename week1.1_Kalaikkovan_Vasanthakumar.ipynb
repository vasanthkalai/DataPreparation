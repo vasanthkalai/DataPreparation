{
 "cells": [
  {
   "cell_type": "markdown",
   "id": "4980ec85",
   "metadata": {},
   "source": [
    "### 1. Create a Jupyter notebook where you create a list, iterate over the list and sort your results, generate random numbers, add to the list, and then print your results."
   ]
  },
  {
   "cell_type": "code",
   "execution_count": 20,
   "id": "ccdb501c",
   "metadata": {},
   "outputs": [],
   "source": [
    "# create a list\n",
    "my_list=[1,9,4,3,6,5,7,8,2,0]"
   ]
  },
  {
   "cell_type": "code",
   "execution_count": 21,
   "id": "7c2f6a84",
   "metadata": {},
   "outputs": [
    {
     "name": "stdout",
     "output_type": "stream",
     "text": [
      "1\n",
      "9\n",
      "4\n",
      "3\n",
      "6\n",
      "5\n",
      "7\n",
      "8\n",
      "2\n",
      "0\n"
     ]
    }
   ],
   "source": [
    "# List Iteration\n",
    "for i in my_list:\n",
    "    print(i)"
   ]
  },
  {
   "cell_type": "code",
   "execution_count": 22,
   "id": "cb9c25c7",
   "metadata": {},
   "outputs": [
    {
     "name": "stdout",
     "output_type": "stream",
     "text": [
      "0\n",
      "1\n",
      "2\n",
      "3\n",
      "4\n",
      "5\n",
      "6\n",
      "7\n",
      "8\n",
      "9\n"
     ]
    }
   ],
   "source": [
    "# list sorting\n",
    "my_list.sort()\n",
    "for i in my_list:\n",
    "    print(i)"
   ]
  },
  {
   "cell_type": "code",
   "execution_count": 23,
   "id": "9c09e627",
   "metadata": {},
   "outputs": [],
   "source": [
    "# importing random\n",
    "import random"
   ]
  },
  {
   "cell_type": "code",
   "execution_count": 24,
   "id": "030cda2c",
   "metadata": {},
   "outputs": [],
   "source": [
    "# creating random list and adding random numbers\n",
    "random_list=[]\n",
    "for i in range(15):\n",
    "    random_list.append(random.randrange(1,50))"
   ]
  },
  {
   "cell_type": "code",
   "execution_count": 25,
   "id": "ef8e3889",
   "metadata": {},
   "outputs": [
    {
     "data": {
      "text/plain": [
       "[18, 28, 37, 27, 43, 8, 47, 10, 26, 46, 39, 39, 37, 43, 37]"
      ]
     },
     "execution_count": 25,
     "metadata": {},
     "output_type": "execute_result"
    }
   ],
   "source": [
    "random_list"
   ]
  },
  {
   "cell_type": "code",
   "execution_count": 26,
   "id": "9701fb9f",
   "metadata": {},
   "outputs": [],
   "source": [
    "# adding random number list to my list\n",
    "my_list=my_list+random_list"
   ]
  },
  {
   "cell_type": "code",
   "execution_count": 27,
   "id": "87af365e",
   "metadata": {},
   "outputs": [
    {
     "name": "stdout",
     "output_type": "stream",
     "text": [
      "0\n",
      "1\n",
      "2\n",
      "3\n",
      "4\n",
      "5\n",
      "6\n",
      "7\n",
      "8\n",
      "9\n",
      "18\n",
      "28\n",
      "37\n",
      "27\n",
      "43\n",
      "8\n",
      "47\n",
      "10\n",
      "26\n",
      "46\n",
      "39\n",
      "39\n",
      "37\n",
      "43\n",
      "37\n"
     ]
    }
   ],
   "source": [
    "# printing the results\n",
    "for i in my_list:\n",
    "    print(i)"
   ]
  },
  {
   "cell_type": "code",
   "execution_count": null,
   "id": "549dc764",
   "metadata": {},
   "outputs": [],
   "source": []
  }
 ],
 "metadata": {
  "kernelspec": {
   "display_name": "Python 3",
   "language": "python",
   "name": "python3"
  },
  "language_info": {
   "codemirror_mode": {
    "name": "ipython",
    "version": 3
   },
   "file_extension": ".py",
   "mimetype": "text/x-python",
   "name": "python",
   "nbconvert_exporter": "python",
   "pygments_lexer": "ipython3",
   "version": "3.8.8"
  }
 },
 "nbformat": 4,
 "nbformat_minor": 5
}
