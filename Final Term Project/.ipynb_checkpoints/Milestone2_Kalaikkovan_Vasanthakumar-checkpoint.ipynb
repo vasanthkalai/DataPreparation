{
 "cells": [
  {
   "cell_type": "code",
   "execution_count": 3,
   "id": "54c03cd0",
   "metadata": {},
   "outputs": [],
   "source": [
    "#importing libraries\n",
    "import numpy as np\n",
    "import pandas as pd"
   ]
  },
  {
   "cell_type": "code",
   "execution_count": 4,
   "id": "dca462f9",
   "metadata": {},
   "outputs": [],
   "source": [
    "#reading csv\n",
    "df=pd.read_csv('NIFTY IT.csv')"
   ]
  },
  {
   "cell_type": "code",
   "execution_count": 5,
   "id": "87a80042",
   "metadata": {},
   "outputs": [
    {
     "data": {
      "text/html": [
       "<div>\n",
       "<style scoped>\n",
       "    .dataframe tbody tr th:only-of-type {\n",
       "        vertical-align: middle;\n",
       "    }\n",
       "\n",
       "    .dataframe tbody tr th {\n",
       "        vertical-align: top;\n",
       "    }\n",
       "\n",
       "    .dataframe thead th {\n",
       "        text-align: right;\n",
       "    }\n",
       "</style>\n",
       "<table border=\"1\" class=\"dataframe\">\n",
       "  <thead>\n",
       "    <tr style=\"text-align: right;\">\n",
       "      <th></th>\n",
       "      <th>Date</th>\n",
       "      <th>Open</th>\n",
       "      <th>High</th>\n",
       "      <th>Low</th>\n",
       "      <th>Close</th>\n",
       "      <th>Volume</th>\n",
       "      <th>Turnover</th>\n",
       "      <th>P/E</th>\n",
       "      <th>P/B</th>\n",
       "      <th>Div Yield</th>\n",
       "    </tr>\n",
       "  </thead>\n",
       "  <tbody>\n",
       "    <tr>\n",
       "      <th>0</th>\n",
       "      <td>2000-01-03</td>\n",
       "      <td>0.0</td>\n",
       "      <td>0.0</td>\n",
       "      <td>0.0</td>\n",
       "      <td>45015.92</td>\n",
       "      <td>3777566.0</td>\n",
       "      <td>5.584100e+09</td>\n",
       "      <td>196.98</td>\n",
       "      <td>52.27</td>\n",
       "      <td>0.06</td>\n",
       "    </tr>\n",
       "    <tr>\n",
       "      <th>1</th>\n",
       "      <td>2000-01-04</td>\n",
       "      <td>0.0</td>\n",
       "      <td>0.0</td>\n",
       "      <td>0.0</td>\n",
       "      <td>48221.50</td>\n",
       "      <td>12128996.0</td>\n",
       "      <td>1.818670e+10</td>\n",
       "      <td>211.00</td>\n",
       "      <td>55.99</td>\n",
       "      <td>0.06</td>\n",
       "    </tr>\n",
       "    <tr>\n",
       "      <th>2</th>\n",
       "      <td>2000-01-05</td>\n",
       "      <td>0.0</td>\n",
       "      <td>0.0</td>\n",
       "      <td>0.0</td>\n",
       "      <td>46430.77</td>\n",
       "      <td>23400610.0</td>\n",
       "      <td>3.136010e+10</td>\n",
       "      <td>203.17</td>\n",
       "      <td>53.91</td>\n",
       "      <td>0.06</td>\n",
       "    </tr>\n",
       "    <tr>\n",
       "      <th>3</th>\n",
       "      <td>2000-01-06</td>\n",
       "      <td>0.0</td>\n",
       "      <td>0.0</td>\n",
       "      <td>0.0</td>\n",
       "      <td>44433.55</td>\n",
       "      <td>18408571.0</td>\n",
       "      <td>2.370960e+10</td>\n",
       "      <td>194.43</td>\n",
       "      <td>51.59</td>\n",
       "      <td>0.06</td>\n",
       "    </tr>\n",
       "    <tr>\n",
       "      <th>4</th>\n",
       "      <td>2000-01-07</td>\n",
       "      <td>0.0</td>\n",
       "      <td>0.0</td>\n",
       "      <td>0.0</td>\n",
       "      <td>41106.21</td>\n",
       "      <td>2762086.0</td>\n",
       "      <td>2.938500e+09</td>\n",
       "      <td>179.87</td>\n",
       "      <td>47.73</td>\n",
       "      <td>0.07</td>\n",
       "    </tr>\n",
       "  </tbody>\n",
       "</table>\n",
       "</div>"
      ],
      "text/plain": [
       "         Date  Open  High  Low     Close      Volume      Turnover     P/E  \\\n",
       "0  2000-01-03   0.0   0.0  0.0  45015.92   3777566.0  5.584100e+09  196.98   \n",
       "1  2000-01-04   0.0   0.0  0.0  48221.50  12128996.0  1.818670e+10  211.00   \n",
       "2  2000-01-05   0.0   0.0  0.0  46430.77  23400610.0  3.136010e+10  203.17   \n",
       "3  2000-01-06   0.0   0.0  0.0  44433.55  18408571.0  2.370960e+10  194.43   \n",
       "4  2000-01-07   0.0   0.0  0.0  41106.21   2762086.0  2.938500e+09  179.87   \n",
       "\n",
       "     P/B  Div Yield  \n",
       "0  52.27       0.06  \n",
       "1  55.99       0.06  \n",
       "2  53.91       0.06  \n",
       "3  51.59       0.06  \n",
       "4  47.73       0.07  "
      ]
     },
     "execution_count": 5,
     "metadata": {},
     "output_type": "execute_result"
    }
   ],
   "source": [
    "df.head()"
   ]
  },
  {
   "cell_type": "markdown",
   "id": "2ce493cc",
   "metadata": {},
   "source": [
    "### 1. Replacing Headers"
   ]
  },
  {
   "cell_type": "code",
   "execution_count": 6,
   "id": "a79df0d3",
   "metadata": {},
   "outputs": [],
   "source": [
    "column_list=['Date','Open_value','High_value','Low_value','Close_value','Volume','Turnover','P/E Ratio','P/B Ratio','Dividend Yield']"
   ]
  },
  {
   "cell_type": "code",
   "execution_count": 7,
   "id": "15ed6ade",
   "metadata": {},
   "outputs": [
    {
     "data": {
      "text/html": [
       "<div>\n",
       "<style scoped>\n",
       "    .dataframe tbody tr th:only-of-type {\n",
       "        vertical-align: middle;\n",
       "    }\n",
       "\n",
       "    .dataframe tbody tr th {\n",
       "        vertical-align: top;\n",
       "    }\n",
       "\n",
       "    .dataframe thead th {\n",
       "        text-align: right;\n",
       "    }\n",
       "</style>\n",
       "<table border=\"1\" class=\"dataframe\">\n",
       "  <thead>\n",
       "    <tr style=\"text-align: right;\">\n",
       "      <th></th>\n",
       "      <th>Date</th>\n",
       "      <th>Open_value</th>\n",
       "      <th>High_value</th>\n",
       "      <th>Low_value</th>\n",
       "      <th>Close_value</th>\n",
       "      <th>Volume</th>\n",
       "      <th>Turnover</th>\n",
       "      <th>P/E Ratio</th>\n",
       "      <th>P/B Ratio</th>\n",
       "      <th>Dividend Yield</th>\n",
       "    </tr>\n",
       "  </thead>\n",
       "  <tbody>\n",
       "    <tr>\n",
       "      <th>0</th>\n",
       "      <td>2000-01-03</td>\n",
       "      <td>0.0</td>\n",
       "      <td>0.0</td>\n",
       "      <td>0.0</td>\n",
       "      <td>45015.92</td>\n",
       "      <td>3777566.0</td>\n",
       "      <td>5.584100e+09</td>\n",
       "      <td>196.98</td>\n",
       "      <td>52.27</td>\n",
       "      <td>0.06</td>\n",
       "    </tr>\n",
       "    <tr>\n",
       "      <th>1</th>\n",
       "      <td>2000-01-04</td>\n",
       "      <td>0.0</td>\n",
       "      <td>0.0</td>\n",
       "      <td>0.0</td>\n",
       "      <td>48221.50</td>\n",
       "      <td>12128996.0</td>\n",
       "      <td>1.818670e+10</td>\n",
       "      <td>211.00</td>\n",
       "      <td>55.99</td>\n",
       "      <td>0.06</td>\n",
       "    </tr>\n",
       "    <tr>\n",
       "      <th>2</th>\n",
       "      <td>2000-01-05</td>\n",
       "      <td>0.0</td>\n",
       "      <td>0.0</td>\n",
       "      <td>0.0</td>\n",
       "      <td>46430.77</td>\n",
       "      <td>23400610.0</td>\n",
       "      <td>3.136010e+10</td>\n",
       "      <td>203.17</td>\n",
       "      <td>53.91</td>\n",
       "      <td>0.06</td>\n",
       "    </tr>\n",
       "    <tr>\n",
       "      <th>3</th>\n",
       "      <td>2000-01-06</td>\n",
       "      <td>0.0</td>\n",
       "      <td>0.0</td>\n",
       "      <td>0.0</td>\n",
       "      <td>44433.55</td>\n",
       "      <td>18408571.0</td>\n",
       "      <td>2.370960e+10</td>\n",
       "      <td>194.43</td>\n",
       "      <td>51.59</td>\n",
       "      <td>0.06</td>\n",
       "    </tr>\n",
       "    <tr>\n",
       "      <th>4</th>\n",
       "      <td>2000-01-07</td>\n",
       "      <td>0.0</td>\n",
       "      <td>0.0</td>\n",
       "      <td>0.0</td>\n",
       "      <td>41106.21</td>\n",
       "      <td>2762086.0</td>\n",
       "      <td>2.938500e+09</td>\n",
       "      <td>179.87</td>\n",
       "      <td>47.73</td>\n",
       "      <td>0.07</td>\n",
       "    </tr>\n",
       "  </tbody>\n",
       "</table>\n",
       "</div>"
      ],
      "text/plain": [
       "         Date  Open_value  High_value  Low_value  Close_value      Volume  \\\n",
       "0  2000-01-03         0.0         0.0        0.0     45015.92   3777566.0   \n",
       "1  2000-01-04         0.0         0.0        0.0     48221.50  12128996.0   \n",
       "2  2000-01-05         0.0         0.0        0.0     46430.77  23400610.0   \n",
       "3  2000-01-06         0.0         0.0        0.0     44433.55  18408571.0   \n",
       "4  2000-01-07         0.0         0.0        0.0     41106.21   2762086.0   \n",
       "\n",
       "       Turnover  P/E Ratio  P/B Ratio  Dividend Yield  \n",
       "0  5.584100e+09     196.98      52.27            0.06  \n",
       "1  1.818670e+10     211.00      55.99            0.06  \n",
       "2  3.136010e+10     203.17      53.91            0.06  \n",
       "3  2.370960e+10     194.43      51.59            0.06  \n",
       "4  2.938500e+09     179.87      47.73            0.07  "
      ]
     },
     "execution_count": 7,
     "metadata": {},
     "output_type": "execute_result"
    }
   ],
   "source": [
    "# replacing the column names\n",
    "df.columns=column_list\n",
    "df.head()"
   ]
  },
  {
   "cell_type": "markdown",
   "id": "d4db2d1b",
   "metadata": {},
   "source": [
    "### 2. Finding duplicates in Date"
   ]
  },
  {
   "cell_type": "code",
   "execution_count": 10,
   "id": "e69a1848",
   "metadata": {},
   "outputs": [
    {
     "data": {
      "text/plain": [
       "1"
      ]
     },
     "execution_count": 10,
     "metadata": {},
     "output_type": "execute_result"
    }
   ],
   "source": [
    "# Number of duplicates in date\n",
    "df['Date'].duplicated().sum()"
   ]
  },
  {
   "cell_type": "code",
   "execution_count": 19,
   "id": "7c1d1aac",
   "metadata": {},
   "outputs": [],
   "source": [
    "#removing duplicates\n",
    "df.drop_duplicates(subset='Date',keep=False,inplace=True)"
   ]
  },
  {
   "cell_type": "code",
   "execution_count": 20,
   "id": "46111f9b",
   "metadata": {},
   "outputs": [
    {
     "data": {
      "text/plain": [
       "0"
      ]
     },
     "execution_count": 20,
     "metadata": {},
     "output_type": "execute_result"
    }
   ],
   "source": [
    "df['Date'].duplicated().sum()"
   ]
  },
  {
   "cell_type": "markdown",
   "id": "ca455898",
   "metadata": {},
   "source": [
    "### 3.Missing Values"
   ]
  },
  {
   "cell_type": "code",
   "execution_count": 22,
   "id": "aa36be55",
   "metadata": {},
   "outputs": [
    {
     "data": {
      "text/plain": [
       "Date               0\n",
       "Open_value         0\n",
       "High_value         0\n",
       "Low_value          0\n",
       "Close_value        0\n",
       "Volume            10\n",
       "Turnover          10\n",
       "P/E Ratio          9\n",
       "P/B Ratio          9\n",
       "Dividend Yield     9\n",
       "dtype: int64"
      ]
     },
     "execution_count": 22,
     "metadata": {},
     "output_type": "execute_result"
    }
   ],
   "source": [
    "df.isnull().sum()"
   ]
  },
  {
   "cell_type": "code",
   "execution_count": 23,
   "id": "f3a6617b",
   "metadata": {},
   "outputs": [],
   "source": [
    "df=df.dropna()"
   ]
  },
  {
   "cell_type": "code",
   "execution_count": 24,
   "id": "c692a69e",
   "metadata": {},
   "outputs": [
    {
     "data": {
      "text/plain": [
       "Date              0\n",
       "Open_value        0\n",
       "High_value        0\n",
       "Low_value         0\n",
       "Close_value       0\n",
       "Volume            0\n",
       "Turnover          0\n",
       "P/E Ratio         0\n",
       "P/B Ratio         0\n",
       "Dividend Yield    0\n",
       "dtype: int64"
      ]
     },
     "execution_count": 24,
     "metadata": {},
     "output_type": "execute_result"
    }
   ],
   "source": [
    "df.isnull().sum()"
   ]
  },
  {
   "cell_type": "markdown",
   "id": "99f0ccdd",
   "metadata": {},
   "source": [
    "### 4. Fix casing or inconsistent values"
   ]
  },
  {
   "cell_type": "markdown",
   "id": "a2081097",
   "metadata": {},
   "source": [
    "In this dataset we dont have any casing issue but there are some inconisistent values as follows"
   ]
  },
  {
   "cell_type": "code",
   "execution_count": 35,
   "id": "de1c32d1",
   "metadata": {},
   "outputs": [
    {
     "name": "stdout",
     "output_type": "stream",
     "text": [
      "911\n",
      "911\n",
      "911\n"
     ]
    }
   ],
   "source": [
    "print(len(df[df['Open_value']==0]))\n",
    "print(len(df[df['High_value']==0]))\n",
    "print(len(df[df['Low_value']==0]))"
   ]
  },
  {
   "cell_type": "code",
   "execution_count": 38,
   "id": "7bfa159e",
   "metadata": {},
   "outputs": [
    {
     "name": "stderr",
     "output_type": "stream",
     "text": [
      "C:\\Users\\vasan\\anaconda3\\lib\\site-packages\\pandas\\core\\frame.py:4308: SettingWithCopyWarning: \n",
      "A value is trying to be set on a copy of a slice from a DataFrame\n",
      "\n",
      "See the caveats in the documentation: https://pandas.pydata.org/pandas-docs/stable/user_guide/indexing.html#returning-a-view-versus-a-copy\n",
      "  return super().drop(\n",
      "C:\\Users\\vasan\\anaconda3\\lib\\site-packages\\pandas\\core\\frame.py:4308: SettingWithCopyWarning: \n",
      "A value is trying to be set on a copy of a slice from a DataFrame\n",
      "\n",
      "See the caveats in the documentation: https://pandas.pydata.org/pandas-docs/stable/user_guide/indexing.html#returning-a-view-versus-a-copy\n",
      "  return super().drop(\n",
      "C:\\Users\\vasan\\anaconda3\\lib\\site-packages\\pandas\\core\\frame.py:4308: SettingWithCopyWarning: \n",
      "A value is trying to be set on a copy of a slice from a DataFrame\n",
      "\n",
      "See the caveats in the documentation: https://pandas.pydata.org/pandas-docs/stable/user_guide/indexing.html#returning-a-view-versus-a-copy\n",
      "  return super().drop(\n"
     ]
    }
   ],
   "source": [
    "df.drop(df[df['Open_value']==0].index,inplace=True)\n",
    "df.drop(df[df['High_value']==0].index,inplace=True)\n",
    "df.drop(df[df['Low_value']==0].index,inplace=True)"
   ]
  },
  {
   "cell_type": "code",
   "execution_count": 39,
   "id": "c67c02e9",
   "metadata": {},
   "outputs": [
    {
     "name": "stdout",
     "output_type": "stream",
     "text": [
      "0\n",
      "0\n",
      "0\n"
     ]
    }
   ],
   "source": [
    "print(len(df[df['Open_value']==0]))\n",
    "print(len(df[df['High_value']==0]))\n",
    "print(len(df[df['Low_value']==0]))"
   ]
  },
  {
   "cell_type": "markdown",
   "id": "d22d5ce0",
   "metadata": {},
   "source": [
    "### 5.Format data into a more readable format"
   ]
  },
  {
   "cell_type": "markdown",
   "id": "a2422cdc",
   "metadata": {},
   "source": [
    "Converting the turnover into Billions"
   ]
  },
  {
   "cell_type": "code",
   "execution_count": 41,
   "id": "7f741bff",
   "metadata": {},
   "outputs": [
    {
     "name": "stderr",
     "output_type": "stream",
     "text": [
      "<ipython-input-41-a10d3e1e073e>:1: SettingWithCopyWarning: \n",
      "A value is trying to be set on a copy of a slice from a DataFrame.\n",
      "Try using .loc[row_indexer,col_indexer] = value instead\n",
      "\n",
      "See the caveats in the documentation: https://pandas.pydata.org/pandas-docs/stable/user_guide/indexing.html#returning-a-view-versus-a-copy\n",
      "  df['Turnover']=df['Turnover'].map(lambda x: x/1000000000)\n"
     ]
    }
   ],
   "source": [
    "df['Turnover']=df['Turnover'].map(lambda x: x/1000000000)"
   ]
  },
  {
   "cell_type": "code",
   "execution_count": 43,
   "id": "6b4500d0",
   "metadata": {},
   "outputs": [
    {
     "data": {
      "text/html": [
       "<div>\n",
       "<style scoped>\n",
       "    .dataframe tbody tr th:only-of-type {\n",
       "        vertical-align: middle;\n",
       "    }\n",
       "\n",
       "    .dataframe tbody tr th {\n",
       "        vertical-align: top;\n",
       "    }\n",
       "\n",
       "    .dataframe thead th {\n",
       "        text-align: right;\n",
       "    }\n",
       "</style>\n",
       "<table border=\"1\" class=\"dataframe\">\n",
       "  <thead>\n",
       "    <tr style=\"text-align: right;\">\n",
       "      <th></th>\n",
       "      <th>Date</th>\n",
       "      <th>Open_value</th>\n",
       "      <th>High_value</th>\n",
       "      <th>Low_value</th>\n",
       "      <th>Close_value</th>\n",
       "      <th>Volume</th>\n",
       "      <th>Turnover</th>\n",
       "      <th>P/E Ratio</th>\n",
       "      <th>P/B Ratio</th>\n",
       "      <th>Dividend Yield</th>\n",
       "    </tr>\n",
       "  </thead>\n",
       "  <tbody>\n",
       "    <tr>\n",
       "      <th>911</th>\n",
       "      <td>2003-08-25</td>\n",
       "      <td>13933.45</td>\n",
       "      <td>14193.35</td>\n",
       "      <td>13142.60</td>\n",
       "      <td>13522.95</td>\n",
       "      <td>30749892.0</td>\n",
       "      <td>10.3618</td>\n",
       "      <td>19.99</td>\n",
       "      <td>4.10</td>\n",
       "      <td>0.67</td>\n",
       "    </tr>\n",
       "    <tr>\n",
       "      <th>912</th>\n",
       "      <td>2003-08-26</td>\n",
       "      <td>13527.65</td>\n",
       "      <td>14105.60</td>\n",
       "      <td>13527.65</td>\n",
       "      <td>13997.35</td>\n",
       "      <td>28272824.0</td>\n",
       "      <td>7.8772</td>\n",
       "      <td>20.69</td>\n",
       "      <td>4.25</td>\n",
       "      <td>0.65</td>\n",
       "    </tr>\n",
       "    <tr>\n",
       "      <th>913</th>\n",
       "      <td>2003-08-27</td>\n",
       "      <td>14156.95</td>\n",
       "      <td>14593.95</td>\n",
       "      <td>14156.95</td>\n",
       "      <td>14527.30</td>\n",
       "      <td>30199773.0</td>\n",
       "      <td>9.5929</td>\n",
       "      <td>21.47</td>\n",
       "      <td>4.41</td>\n",
       "      <td>0.62</td>\n",
       "    </tr>\n",
       "    <tr>\n",
       "      <th>914</th>\n",
       "      <td>2003-08-28</td>\n",
       "      <td>14623.90</td>\n",
       "      <td>15151.70</td>\n",
       "      <td>14623.90</td>\n",
       "      <td>15049.20</td>\n",
       "      <td>56136692.0</td>\n",
       "      <td>15.6473</td>\n",
       "      <td>22.25</td>\n",
       "      <td>4.57</td>\n",
       "      <td>0.60</td>\n",
       "    </tr>\n",
       "    <tr>\n",
       "      <th>915</th>\n",
       "      <td>2003-08-29</td>\n",
       "      <td>15071.20</td>\n",
       "      <td>15546.55</td>\n",
       "      <td>14932.60</td>\n",
       "      <td>15056.30</td>\n",
       "      <td>47927044.0</td>\n",
       "      <td>13.4988</td>\n",
       "      <td>22.26</td>\n",
       "      <td>4.57</td>\n",
       "      <td>0.60</td>\n",
       "    </tr>\n",
       "  </tbody>\n",
       "</table>\n",
       "</div>"
      ],
      "text/plain": [
       "           Date  Open_value  High_value  Low_value  Close_value      Volume  \\\n",
       "911  2003-08-25    13933.45    14193.35   13142.60     13522.95  30749892.0   \n",
       "912  2003-08-26    13527.65    14105.60   13527.65     13997.35  28272824.0   \n",
       "913  2003-08-27    14156.95    14593.95   14156.95     14527.30  30199773.0   \n",
       "914  2003-08-28    14623.90    15151.70   14623.90     15049.20  56136692.0   \n",
       "915  2003-08-29    15071.20    15546.55   14932.60     15056.30  47927044.0   \n",
       "\n",
       "     Turnover  P/E Ratio  P/B Ratio  Dividend Yield  \n",
       "911   10.3618      19.99       4.10            0.67  \n",
       "912    7.8772      20.69       4.25            0.65  \n",
       "913    9.5929      21.47       4.41            0.62  \n",
       "914   15.6473      22.25       4.57            0.60  \n",
       "915   13.4988      22.26       4.57            0.60  "
      ]
     },
     "execution_count": 43,
     "metadata": {},
     "output_type": "execute_result"
    }
   ],
   "source": [
    "df.head()"
   ]
  },
  {
   "cell_type": "code",
   "execution_count": null,
   "id": "308d0dc5",
   "metadata": {},
   "outputs": [],
   "source": []
  }
 ],
 "metadata": {
  "kernelspec": {
   "display_name": "Python 3",
   "language": "python",
   "name": "python3"
  },
  "language_info": {
   "codemirror_mode": {
    "name": "ipython",
    "version": 3
   },
   "file_extension": ".py",
   "mimetype": "text/x-python",
   "name": "python",
   "nbconvert_exporter": "python",
   "pygments_lexer": "ipython3",
   "version": "3.8.8"
  }
 },
 "nbformat": 4,
 "nbformat_minor": 5
}
