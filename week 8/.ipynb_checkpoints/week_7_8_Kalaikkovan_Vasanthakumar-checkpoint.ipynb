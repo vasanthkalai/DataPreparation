{
 "cells": [
  {
   "cell_type": "markdown",
   "id": "ff82e901",
   "metadata": {},
   "source": [
    "## 1. Data Wrangling with Python: Activity 9, page 294"
   ]
  },
  {
   "cell_type": "markdown",
   "id": "05fcaa2e",
   "metadata": {},
   "source": [
    "#### Step 1: Import the necessary libraries, including regex and beautifulsoup:"
   ]
  },
  {
   "cell_type": "code",
   "execution_count": 1,
   "id": "3ef5fc42",
   "metadata": {},
   "outputs": [],
   "source": [
    "import urllib.request, urllib.parse, urllib.error\n",
    "\n",
    "import requests\n",
    "\n",
    "from bs4 import BeautifulSoup\n",
    "\n",
    "import ssl\n",
    "\n",
    "import re"
   ]
  },
  {
   "cell_type": "markdown",
   "id": "8a65acb0",
   "metadata": {},
   "source": [
    "#### Step 2: Check the SSL certificate:"
   ]
  },
  {
   "cell_type": "code",
   "execution_count": 2,
   "id": "2f57af0b",
   "metadata": {},
   "outputs": [],
   "source": [
    "ctx = ssl.create_default_context()\n",
    "\n",
    "ctx.check_hostname = False\n",
    "\n",
    "ctx.verify_mode = ssl.CERT_NONE"
   ]
  },
  {
   "cell_type": "markdown",
   "id": "07b030c4",
   "metadata": {},
   "source": [
    "#### Step 3: Read the HTML from the URL:"
   ]
  },
  {
   "cell_type": "code",
   "execution_count": 3,
   "id": "18b5b4b9",
   "metadata": {},
   "outputs": [],
   "source": [
    "# Read the HTML from the URL and pass on to BeautifulSoup\n",
    "\n",
    "top100url = 'https://www.gutenberg.org/browse/scores/top'\n",
    "\n",
    "response = requests.get(top100url)"
   ]
  },
  {
   "cell_type": "markdown",
   "id": "4ee25aa4",
   "metadata": {},
   "source": [
    "#### Step 4: Write a small function to check the status of the web request."
   ]
  },
  {
   "cell_type": "code",
   "execution_count": 4,
   "id": "188d7d84",
   "metadata": {},
   "outputs": [],
   "source": [
    "def status_check(r):\n",
    "\n",
    "    if r.status_code==200:\n",
    "\n",
    "        print('Success!')\n",
    "\n",
    "        return 1\n",
    "\n",
    "    else:\n",
    "\n",
    "        print('Failed!')\n",
    "\n",
    "        return -1"
   ]
  },
  {
   "cell_type": "code",
   "execution_count": 5,
   "id": "0c6e516c",
   "metadata": {},
   "outputs": [
    {
     "name": "stdout",
     "output_type": "stream",
     "text": [
      "Success!\n"
     ]
    },
    {
     "data": {
      "text/plain": [
       "1"
      ]
     },
     "execution_count": 5,
     "metadata": {},
     "output_type": "execute_result"
    }
   ],
   "source": [
    "status_check(response)"
   ]
  },
  {
   "cell_type": "markdown",
   "id": "31c7b027",
   "metadata": {},
   "source": [
    "#### Step 5: Decode the response and pass this on to BeautifulSoup for HTML parsing."
   ]
  },
  {
   "cell_type": "code",
   "execution_count": 6,
   "id": "c58a028e",
   "metadata": {},
   "outputs": [],
   "source": [
    "contents = response.content.decode(response.encoding)\n",
    "\n",
    "soup = BeautifulSoup(contents, 'html.parser')"
   ]
  },
  {
   "cell_type": "markdown",
   "id": "d536b637",
   "metadata": {},
   "source": [
    "#### Step 6: Find all the href tags and store them in the list of links. Check what the list looks like – print the first 30 elements."
   ]
  },
  {
   "cell_type": "code",
   "execution_count": 7,
   "id": "19a9102c",
   "metadata": {},
   "outputs": [],
   "source": [
    "# Empty list to hold all the http links in the HTML page\n",
    "\n",
    "lst_links=[]\n",
    "\n",
    "# Find all the href tags and store them in the list of links\n",
    "\n",
    "for link in soup.find_all('a'):\n",
    "#print(link.get('href'))\n",
    "    lst_links.append(link.get('href'))"
   ]
  },
  {
   "cell_type": "markdown",
   "id": "937e552e",
   "metadata": {},
   "source": [
    "#### Step 7: Use a regular expression to find the numeric digits in these links. These are the file numbers for the top 100 eBooks."
   ]
  },
  {
   "cell_type": "code",
   "execution_count": 8,
   "id": "dabcc559",
   "metadata": {},
   "outputs": [
    {
     "data": {
      "text/plain": [
       "['/',\n",
       " '/about/',\n",
       " '/about/',\n",
       " '/policy/collection_development.html',\n",
       " '/about/contact_information.html',\n",
       " '/about/background/',\n",
       " '/policy/permission.html',\n",
       " '/policy/privacy_policy.html',\n",
       " '/policy/terms_of_use.html',\n",
       " '/ebooks/',\n",
       " '/ebooks/',\n",
       " '/ebooks/bookshelf/',\n",
       " '/browse/scores/top',\n",
       " '/ebooks/offline_catalogs.html',\n",
       " '/help/',\n",
       " '/help/',\n",
       " '/help/copyright.html',\n",
       " '/help/errata.html',\n",
       " '/help/file_formats.html',\n",
       " '/help/faq.html',\n",
       " '/policy/',\n",
       " '/help/public_domain_ebook_submission.html',\n",
       " '/help/submitting_your_own_work.html',\n",
       " '/help/mobile.html',\n",
       " '/attic/',\n",
       " '/donate/',\n",
       " '/donate/',\n",
       " '#books-last1',\n",
       " '#authors-last1',\n",
       " '#books-last7',\n",
       " '#authors-last7',\n",
       " '#books-last30',\n",
       " '#authors-last30',\n",
       " '/ebooks/1342',\n",
       " '/ebooks/11',\n",
       " '/ebooks/1661',\n",
       " '/ebooks/14568',\n",
       " '/ebooks/84',\n",
       " '/ebooks/65952',\n",
       " '/ebooks/2701',\n",
       " '/ebooks/98',\n",
       " '/ebooks/174',\n",
       " '/ebooks/33283',\n",
       " '/ebooks/345',\n",
       " '/ebooks/74',\n",
       " '/ebooks/2600',\n",
       " '/ebooks/1232',\n",
       " '/ebooks/46',\n",
       " '/ebooks/64317',\n",
       " '/ebooks/1260',\n",
       " '/ebooks/2554',\n",
       " '/ebooks/65950',\n",
       " '/ebooks/76',\n",
       " '/ebooks/2591',\n",
       " '/ebooks/4300',\n",
       " '/ebooks/58585',\n",
       " '/ebooks/5200',\n",
       " '/ebooks/43',\n",
       " '/ebooks/1400',\n",
       " '/ebooks/55',\n",
       " '/ebooks/1497',\n",
       " '/ebooks/2542',\n",
       " '/ebooks/6130',\n",
       " '/ebooks/26184',\n",
       " '/ebooks/27827',\n",
       " '/ebooks/205',\n",
       " '/ebooks/1184',\n",
       " '/ebooks/1952',\n",
       " '/ebooks/65956',\n",
       " '/ebooks/63256',\n",
       " '/ebooks/45',\n",
       " '/ebooks/844',\n",
       " '/ebooks/30254',\n",
       " '/ebooks/1292',\n",
       " '/ebooks/16',\n",
       " '/ebooks/65953',\n",
       " '/ebooks/5740',\n",
       " '/ebooks/219',\n",
       " '/ebooks/6133',\n",
       " '/ebooks/768',\n",
       " '/ebooks/514',\n",
       " '/ebooks/996',\n",
       " '/ebooks/730',\n",
       " '/ebooks/1080',\n",
       " '/ebooks/5739',\n",
       " '/ebooks/902',\n",
       " '/ebooks/158',\n",
       " '/ebooks/244',\n",
       " '/ebooks/42108',\n",
       " '/ebooks/65945',\n",
       " '/ebooks/36',\n",
       " '/ebooks/135',\n",
       " '/ebooks/65959',\n",
       " '/ebooks/120',\n",
       " '/ebooks/65944',\n",
       " '/ebooks/2814',\n",
       " '/ebooks/28054',\n",
       " '/ebooks/103',\n",
       " '/ebooks/203',\n",
       " '/ebooks/19033']"
      ]
     },
     "execution_count": 8,
     "metadata": {},
     "output_type": "execute_result"
    }
   ],
   "source": [
    "lst_links[:100]"
   ]
  },
  {
   "cell_type": "markdown",
   "id": "664d6af5",
   "metadata": {},
   "source": [
    "#### Step 8: Initialize the empty list to hold the file numbers over an appropriate range and use regex to find the numeric digits in the link href string. Use the findall method."
   ]
  },
  {
   "cell_type": "code",
   "execution_count": 9,
   "id": "127a1cec",
   "metadata": {},
   "outputs": [],
   "source": [
    "booknum=[]"
   ]
  },
  {
   "cell_type": "code",
   "execution_count": 10,
   "id": "caa2efa6",
   "metadata": {},
   "outputs": [],
   "source": [
    "for i in range(19,119):\n",
    "    link=lst_links[i]\n",
    "    link=link.strip()\n",
    "\n",
    "    # Regular expression to find the numeric digits in the link (href) string\n",
    "    n=re.findall('[0-9]+',link)\n",
    "    if len(n)==1:\n",
    "        # Append the filenumber casted as integer\n",
    "        booknum.append(int(n[0]))"
   ]
  },
  {
   "cell_type": "code",
   "execution_count": 11,
   "id": "e77881b4",
   "metadata": {},
   "outputs": [
    {
     "name": "stdout",
     "output_type": "stream",
     "text": [
      "\n",
      "The file numbers for the top 100 ebooks on Gutenberg are shown below\n",
      "----------------------------------------------------------------------\n",
      "[1, 1, 7, 7, 30, 30, 1342, 11, 1661, 14568, 84, 65952, 2701, 98, 174, 33283, 345, 74, 2600, 1232, 46, 64317, 1260, 2554, 65950, 76, 2591, 4300, 58585, 5200, 43, 1400, 55, 1497, 2542, 6130, 26184, 27827, 205, 1184, 1952, 65956, 63256, 45, 844, 30254, 1292, 16, 65953, 5740, 219, 6133, 768, 514, 996, 730, 1080, 5739, 902, 158, 244, 42108, 65945, 36, 135, 65959, 120, 65944, 2814, 28054, 103, 203, 19033, 236, 65943, 4363, 16328, 1727, 766, 25344, 65957, 1399, 2852, 863, 829, 4980, 1998, 215, 408, 2680, 623, 8800]\n"
     ]
    }
   ],
   "source": [
    "print ('\\nThe file numbers for the top 100 ebooks on Gutenberg are shown below\\n'+'-'*70)\n",
    "\n",
    "print(booknum)"
   ]
  },
  {
   "cell_type": "markdown",
   "id": "f85452f6",
   "metadata": {},
   "source": [
    "#### Step 9:What does the soup object's text look like? Use the .text method and print only the first 2,000 characters (do not print the whole thing, as it is too long)."
   ]
  },
  {
   "cell_type": "code",
   "execution_count": 12,
   "id": "81f975b3",
   "metadata": {},
   "outputs": [
    {
     "name": "stdout",
     "output_type": "stream",
     "text": [
      "\n",
      "\n",
      "\n",
      "\n",
      "Top 100 | Project Gutenberg\n",
      "\n",
      "\n",
      "\n",
      "\n",
      "\n",
      "\n",
      "\n",
      "\n",
      "\n",
      "\n",
      "\n",
      "\n",
      "\n",
      "\n",
      "\n",
      "\n",
      "\n",
      "\n",
      "\n",
      "\n",
      "\n",
      "\n",
      "\n",
      "\n",
      "\n",
      "\n",
      "\n",
      "Menu▾\n",
      "\n",
      "\n",
      "\n",
      "About\n",
      "          ▾\n",
      "\n",
      "▾\n",
      "\n",
      "\n",
      "About Project Gutenberg\n",
      "Collection Development\n",
      "Contact Us\n",
      "History & Philosophy\n",
      "Permissions & License\n",
      "Privacy Policy\n",
      "Terms of Use\n",
      "\n",
      "\n",
      "\n",
      "Search and Browse\n",
      "      \t  ▾\n",
      "\n",
      "▾\n",
      "\n",
      "\n",
      "Book Search\n",
      "Bookshelves\n",
      "Frequently Downloaded\n",
      "Offline Catalogs\n",
      "\n",
      "\n",
      "\n",
      "Help\n",
      "          ▾\n",
      "\n",
      "▾\n",
      "\n",
      "\n",
      "All help topics →\n",
      "Copyright Procedures\n",
      "Errata, Fixes and Bug Reports\n",
      "File Formats\n",
      "Frequently Asked Questions\n",
      "Policies →\n",
      "Public Domain eBook Submission\n",
      "Submitting Your Own Work\n",
      "Tablets, Phones and eReaders\n",
      "The Attic →\n",
      "\n",
      "\n",
      "Donate\n",
      "\n",
      "\n",
      "\n",
      "\n",
      "\n",
      "\n",
      "\n",
      "\n",
      "\n",
      "\n",
      "Donation\n",
      "\n",
      "\n",
      "\n",
      "\n",
      "\n",
      "\n",
      "\n",
      "Frequently Viewed or Downloaded\n",
      "These listings are based on the number of times each eBook gets downloaded.\n",
      "      Multiple downloads from the same Internet address on the same day count as one download, and addresses that download more than 100 eBooks in a day are considered robots and are not counted.\n",
      "\n",
      "Downloaded Books\n",
      "2021-07-30126413\n",
      "last 7 days908192\n",
      "last 30 days3992742\n",
      "\n",
      "\n",
      "\n",
      "Top 100 EBooks yesterday\n",
      "Top 100 Authors yesterday\n",
      "Top 100 EBooks last 7 days\n",
      "Top 100 Authors last 7 days\n",
      "Top 100 EBooks last 30 days\n",
      "Top 100 Authors last 30 days\n",
      "\n",
      "\n",
      "Top 100 EBooks yesterday\n",
      "\n",
      "Pride and Prejudice by Jane Austen (1431)\n",
      "Alice's Adventures in Wonderland by Lewis Carroll (681)\n",
      "The Adventures of Sherlock Holmes by Arthur Conan Doyle (669)\n",
      "Sir Gawayne and the Green Knight (654)\n",
      "Frankenstein; Or, The Modern Prometheus by Mary Wollstonecraft Shelley (601)\n",
      "Writing Class by Robert Sheckley (579)\n",
      "Moby Dick; Or, The Whale by Herman Melville (576)\n",
      "A Tale of Two Cities by Charles Dickens (467)\n",
      "The Picture of Dorian Gray by Oscar Wilde (446)\n",
      "Calculus Made Easy by Silvanus P.  Thompson (443)\n",
      "Dracula by Bram Stoker (401)\n",
      "The Adventures of Tom Sawyer, Complete by Mark Twain (395)\n",
      "War and Peace by graf Leo Tolstoy (383)\n",
      "The Prince by Niccolò Machiavelli (368)\n",
      "A Christmas Carol in Prose; Being a Ghost Story of Christmas by Charles Dickens (365)\n",
      "The Great Gatsby by F. Scott  Fitzgerald (359)\n",
      "Jane Eyre: An Autobiog\n"
     ]
    }
   ],
   "source": [
    "print(soup.text[:2000])"
   ]
  },
  {
   "cell_type": "markdown",
   "id": "2f441969",
   "metadata": {},
   "source": [
    "#### Step 10: Search in the extracted text (using a regular expression) from the soup object to find the names of the top 100 eBooks (yesterday's ranking)."
   ]
  },
  {
   "cell_type": "code",
   "execution_count": 13,
   "id": "6788170d",
   "metadata": {},
   "outputs": [],
   "source": [
    "# Temp empty list of Ebook names\n",
    "lst_titles_temp=[]"
   ]
  },
  {
   "cell_type": "markdown",
   "id": "3f320fd3",
   "metadata": {},
   "source": [
    "#### Step 11: Create a starting index. It should point at the text Top 100 Ebooks yesterday. Use the splitlines method of soup.text. It splits the lines of text of the soup object."
   ]
  },
  {
   "cell_type": "code",
   "execution_count": 14,
   "id": "73711bea",
   "metadata": {},
   "outputs": [],
   "source": [
    "start_idx=soup.text.splitlines().index('Top 100 EBooks yesterday')"
   ]
  },
  {
   "cell_type": "markdown",
   "id": "a060d53f",
   "metadata": {},
   "source": [
    "#### Step 12: Loop 1-100 to add the strings of the next 100 lines to this temporary list. Hint: use the splitlines method."
   ]
  },
  {
   "cell_type": "code",
   "execution_count": 15,
   "id": "b4dbfa82",
   "metadata": {},
   "outputs": [],
   "source": [
    "for i in range(100):\n",
    "    lst_titles_temp.append(soup.text.splitlines()[start_idx+2+i])"
   ]
  },
  {
   "cell_type": "markdown",
   "id": "7a3ec095",
   "metadata": {},
   "source": [
    "#### Step 13: Use a regular expression to extract only text from the name strings and append it to an empty list. Use match and span to find the indices and use them."
   ]
  },
  {
   "cell_type": "code",
   "execution_count": 16,
   "id": "384dec77",
   "metadata": {},
   "outputs": [],
   "source": [
    "lst_titles=[]\n",
    "\n",
    "for i in range(100):\n",
    "    id1,id2=re.match('^[a-zA-Z ]*',lst_titles_temp[i]).span()\n",
    "    lst_titles.append(lst_titles_temp[i][id1:id2])"
   ]
  },
  {
   "cell_type": "code",
   "execution_count": 17,
   "id": "17a987c7",
   "metadata": {},
   "outputs": [
    {
     "name": "stdout",
     "output_type": "stream",
     "text": [
      "Top \n",
      "Top \n",
      "Top \n",
      "Top \n",
      "\n",
      "\n",
      "Top \n",
      "\n",
      "Pride and Prejudice by Jane Austen \n",
      "Alice\n",
      "The Adventures of Sherlock Holmes by Arthur Conan Doyle \n",
      "Sir Gawayne and the Green Knight \n",
      "Frankenstein\n",
      "Writing Class by Robert Sheckley \n",
      "Moby Dick\n",
      "A Tale of Two Cities by Charles Dickens \n",
      "The Picture of Dorian Gray by Oscar Wilde \n",
      "Calculus Made Easy by Silvanus P\n",
      "Dracula by Bram Stoker \n",
      "The Adventures of Tom Sawyer\n",
      "War and Peace by graf Leo Tolstoy \n",
      "The Prince by Niccol\n",
      "A Christmas Carol in Prose\n",
      "The Great Gatsby by F\n",
      "Jane Eyre\n",
      "Crime and Punishment by Fyodor Dostoyevsky \n",
      "Deirdre by James Stephens \n",
      "Adventures of Huckleberry Finn by Mark Twain \n",
      "Grimms\n",
      "Ulysses by James Joyce \n",
      "The Prophet by Kahlil Gibran \n",
      "Metamorphosis by Franz Kafka \n",
      "The Strange Case of Dr\n",
      "Great Expectations by Charles Dickens \n",
      "The Wonderful Wizard of Oz by L\n",
      "The Republic by Plato \n",
      "A Doll\n",
      "The Iliad by Homer \n",
      "Simple Sabotage Field Manual by United States\n",
      "The Kama Sutra of Vatsyayana by Vatsyayana \n",
      "Walden\n",
      "The Count of Monte Cristo\n",
      "The Yellow Wallpaper by Charlotte Perkins Gilman \n",
      "The Beachcomber by Damon Knight \n",
      "The American Diary of a Japanese Girl by Yon\n",
      "Anne of Green Gables by L\n",
      "The Importance of Being Earnest\n",
      "The Romance of Lust\n",
      "The Way of the World by William Congreve \n",
      "Peter Pan by J\n",
      "Our Irish Theatre by Lady Augusta Gregory \n",
      "Tractatus Logico\n",
      "Heart of Darkness by Joseph Conrad \n",
      "The Extraordinary Adventures of Arsene Lupin\n",
      "Wuthering Heights by Emily Bront\n",
      "Little Women by Louisa May Alcott \n",
      "Don Quixote by Miguel de Cervantes Saavedra \n",
      "Oliver Twist by Charles Dickens \n",
      "A Modest Proposal by Jonathan Swift \n",
      "Korean\n",
      "The Happy Prince\n",
      "Emma by Jane Austen \n",
      "A Study in Scarlet by Arthur Conan Doyle \n",
      "The Slang Dictionary\n",
      "The Toy by Kris Neville \n",
      "The War of the Worlds by H\n",
      "Les Mis\n",
      "Earth\n",
      "Treasure Island by Robert Louis Stevenson \n",
      "Bread by Charles G\n",
      "Dubliners by James Joyce \n",
      "The Brothers Karamazov by Fyodor Dostoyevsky \n",
      "Around the World in Eighty Days by Jules Verne \n",
      "Uncle Tom\n",
      "Alice\n",
      "The Jungle Book by Rudyard Kipling \n",
      "A Soldier\n",
      "Beyond Good and Evil by Friedrich Wilhelm Nietzsche \n",
      "Beowulf\n",
      "The Odyssey by Homer \n",
      "David Copperfield by Charles Dickens \n",
      "The Scarlet Letter by Nathaniel Hawthorne \n",
      "Joan\n",
      "Anna Karenina by graf Leo Tolstoy \n",
      "The Hound of the Baskervilles by Arthur Conan Doyle \n",
      "The Mysterious Affair at Styles by Agatha Christie \n",
      "Gulliver\n",
      "Old Granny Fox by Thornton W\n",
      "Thus Spake Zarathustra\n",
      "The Call of the Wild by Jack London \n",
      "The Souls of Black Folk by W\n",
      "Meditations by Emperor of Rome Marcus Aurelius \n",
      "The Battle of the Books\n",
      "An Index of The Divine Comedy by Dante by Dante Alighieri \n",
      "Sense and Sensibility by Jane Austen \n",
      "The Time Machine by H\n",
      "Complete Original Short Stories of Guy De Maupassant by Guy de Maupassant \n",
      "A Pickle for the Knowing Ones by Timothy Dexter \n",
      "The Art of War by active \n",
      "Chambers\n"
     ]
    }
   ],
   "source": [
    "for l in lst_titles:\n",
    "    print(l)"
   ]
  },
  {
   "cell_type": "markdown",
   "id": "47dfa2f5",
   "metadata": {},
   "source": [
    "## 2. Data Wrangling with Python: Activity 10, page 295"
   ]
  },
  {
   "cell_type": "markdown",
   "id": "9cc55dd7",
   "metadata": {},
   "source": [
    "#### Step 1: Import urllib.request, urllib.parse, urllib.error, and json."
   ]
  },
  {
   "cell_type": "code",
   "execution_count": 18,
   "id": "3c33dcdc",
   "metadata": {},
   "outputs": [],
   "source": [
    "import urllib.request, urllib.parse, urllib.error\n",
    "\n",
    "import json"
   ]
  },
  {
   "cell_type": "markdown",
   "id": "7bd7a92a",
   "metadata": {},
   "source": [
    "#### Step 2: Load the secret API key (you have to get one from the OMDb website and use that; it has a daily limit of 1,000) from a JSON file stored in the same folder in a variable, by using json.loads."
   ]
  },
  {
   "cell_type": "markdown",
   "id": "1e89bcb4",
   "metadata": {},
   "source": [
    "Obtained the key"
   ]
  },
  {
   "cell_type": "markdown",
   "id": "7f2fd676",
   "metadata": {},
   "source": [
    "#### Step 3: Obtain a key and store it in JSON as APIkeys.json."
   ]
  },
  {
   "cell_type": "markdown",
   "id": "d506ce8d",
   "metadata": {},
   "source": [
    "Saved the json response into APIKeys.json"
   ]
  },
  {
   "cell_type": "markdown",
   "id": "40e90758",
   "metadata": {},
   "source": [
    "#### Step 4: Open the APIkeys.json file."
   ]
  },
  {
   "cell_type": "code",
   "execution_count": 19,
   "id": "58623b4b",
   "metadata": {},
   "outputs": [],
   "source": [
    "with open('APIkeys.json') as f:\n",
    "\n",
    "    keys = json.load(f)\n",
    "\n",
    "omdbapi = keys['OMDBapi']"
   ]
  },
  {
   "cell_type": "markdown",
   "id": "b2175d0b",
   "metadata": {},
   "source": [
    "#### Step 5: Assign the OMDb portal (http://www.omdbapi.com/?) as a string to a variable."
   ]
  },
  {
   "cell_type": "code",
   "execution_count": 20,
   "id": "925940d7",
   "metadata": {},
   "outputs": [],
   "source": [
    "serviceurl = 'http://www.omdbapi.com/?'"
   ]
  },
  {
   "cell_type": "markdown",
   "id": "0c012fd3",
   "metadata": {},
   "source": [
    "#### Step 6: Create a variable called apikey with the last portion of the URL (&apikey=secretapikey), where secretapikey is your own API key."
   ]
  },
  {
   "cell_type": "code",
   "execution_count": 21,
   "id": "ea29725c",
   "metadata": {},
   "outputs": [],
   "source": [
    "apikey = '&apikey='+omdbapi"
   ]
  },
  {
   "cell_type": "markdown",
   "id": "585b1d87",
   "metadata": {},
   "source": [
    "#### Step 7: Write a utility function called print_json to print the movie data from a JSON file (which we will get from the portal)."
   ]
  },
  {
   "cell_type": "code",
   "execution_count": 22,
   "id": "3c7a158e",
   "metadata": {},
   "outputs": [],
   "source": [
    "def print_json(json_data):\n",
    "    list_keys=['Title', 'Year', 'Rated', 'Released', 'Runtime', 'Genre', 'Director', 'Writer',\n",
    "               'Actors', 'Plot', 'Language', 'Country', 'Awards', 'Ratings',\n",
    "               'Metascore', 'imdbRating', 'imdbVotes', 'imdbID']\n",
    "    print('-'*50)\n",
    "    for k in list_keys:\n",
    "        if k in list(json_data.keys()):\n",
    "            print(f'{k}: {json_data[k]}')\n",
    "            print('-'*50)"
   ]
  },
  {
   "cell_type": "markdown",
   "id": "8c129817",
   "metadata": {},
   "source": [
    "#### Step 8: Write a utility function to download a poster of the movie based on the information from the JSON dataset and save it in your local folder. Use the os module. The poster data is stored in the JSON key Poster. Use the Python command to open a file and write the poster data. Close the file after you're done. This function will save the poster data as an image file."
   ]
  },
  {
   "cell_type": "code",
   "execution_count": 23,
   "id": "43e913fc",
   "metadata": {},
   "outputs": [],
   "source": [
    "def save_poster(json_data):\n",
    "    import os\n",
    "    title = json_data['Title']\n",
    "    poster_url = json_data['Poster']\n",
    "    # Splits the poster url by '.' and picks up the last string as file extension\n",
    "    poster_file_extension=poster_url.split('.')[-1]\n",
    "    # Reads the image file from web\n",
    "    poster_data = urllib.request.urlopen(poster_url).read()\n",
    "    savelocation=os.getcwd()+'\\\\'+'Posters'+'\\\\'\n",
    "    # Creates new directory if the directory does not exist. Otherwise, just use the existing path.\n",
    "    if not os.path.isdir(savelocation):\n",
    "        os.mkdir(savelocation)\n",
    "        filename=savelocation+str(title)+'.'+poster_file_extension\n",
    "        f=open(filename,'wb')\n",
    "        f.write(poster_data)\n",
    "        f.close()"
   ]
  },
  {
   "cell_type": "markdown",
   "id": "f0e1dca6",
   "metadata": {},
   "source": [
    "#### Step 9: Write a utility function called search_movie to search for a movie by its name, print the downloaded JSON data, and save the movie poster in the local folder. Use a try-except loop for this. Use the previously created serviceurl and apikey variables. You have to pass on a dictionary with a key, t, and the movie name as the corresponding value to the urllib.parse.urlencode() function and then add the serviceurl and apikey to the output of the function to construct the full URL. This URL will be used to access the data. The JSON data has a key called Response. If it is True, that means the read was successful. Check this before processing the data. If it's not successful, then print the JSON key Error, which will contain the appropriate error message returned by the movie database."
   ]
  },
  {
   "cell_type": "code",
   "execution_count": 24,
   "id": "9fe5f6a8",
   "metadata": {},
   "outputs": [],
   "source": [
    "def search_movie(title):\n",
    "    try:\n",
    "        url = serviceurl + urllib.parse.urlencode({'t': str(title)})+apikey\n",
    "        print(f'Retrieving the data of {title} now... ')\n",
    "        print(url)\n",
    "        uh = urllib.request.urlopen(url)\n",
    "        data = uh.read()\n",
    "        json_data=json.loads(data)\n",
    "        if json_data['Response']=='True':\n",
    "            print_json(json_data)\n",
    "            # Asks user whether to download the poster of the movie\n",
    "        if json_data['Response']=='True' and json_data['Poster']!='N/A':\n",
    "            save_poster(json_data)\n",
    "        else:\n",
    "            print('Error encountered: ',json_data['Error'])\n",
    "    except urllib.error.URLError as e:\n",
    "        print(f'ERROR: {e.reason}')"
   ]
  },
  {
   "cell_type": "markdown",
   "id": "c15ddf03",
   "metadata": {},
   "source": [
    "#### Step 10: Test the search_movie function by entering Titanic."
   ]
  },
  {
   "cell_type": "code",
   "execution_count": 25,
   "id": "1e66ea88",
   "metadata": {},
   "outputs": [
    {
     "name": "stdout",
     "output_type": "stream",
     "text": [
      "Retrieving the data of Titanic now... \n",
      "http://www.omdbapi.com/?t=Titanic&apikey=f7ccdee\n",
      "--------------------------------------------------\n",
      "Title: Titanic\n",
      "--------------------------------------------------\n",
      "Year: 1997\n",
      "--------------------------------------------------\n",
      "Rated: PG-13\n",
      "--------------------------------------------------\n",
      "Released: 19 Dec 1997\n",
      "--------------------------------------------------\n",
      "Runtime: 194 min\n",
      "--------------------------------------------------\n",
      "Genre: Drama, Romance\n",
      "--------------------------------------------------\n",
      "Director: James Cameron\n",
      "--------------------------------------------------\n",
      "Writer: James Cameron\n",
      "--------------------------------------------------\n",
      "Actors: Leonardo DiCaprio, Kate Winslet, Billy Zane\n",
      "--------------------------------------------------\n",
      "Plot: A seventeen-year-old aristocrat falls in love with a kind but poor artist aboard the luxurious, ill-fated R.M.S. Titanic.\n",
      "--------------------------------------------------\n",
      "Language: English, Swedish, Italian, French\n",
      "--------------------------------------------------\n",
      "Country: United States, Mexico, Australia\n",
      "--------------------------------------------------\n",
      "Awards: Won 11 Oscars. 125 wins & 83 nominations total\n",
      "--------------------------------------------------\n",
      "Ratings: [{'Source': 'Internet Movie Database', 'Value': '7.8/10'}, {'Source': 'Rotten Tomatoes', 'Value': '89%'}, {'Source': 'Metacritic', 'Value': '75/100'}]\n",
      "--------------------------------------------------\n",
      "Metascore: 75\n",
      "--------------------------------------------------\n",
      "imdbRating: 7.8\n",
      "--------------------------------------------------\n",
      "imdbVotes: 1,079,408\n",
      "--------------------------------------------------\n",
      "imdbID: tt0120338\n",
      "--------------------------------------------------\n"
     ]
    }
   ],
   "source": [
    "search_movie('Titanic')"
   ]
  },
  {
   "cell_type": "markdown",
   "id": "009843f0",
   "metadata": {},
   "source": [
    "#### Step 11: Test the search_movie function by entering 'Random_error' (obviously, this will not be found, and you should be able to check whether your error catching code is working properly)."
   ]
  },
  {
   "cell_type": "code",
   "execution_count": 26,
   "id": "bae3c47b",
   "metadata": {},
   "outputs": [
    {
     "name": "stdout",
     "output_type": "stream",
     "text": [
      "Retrieving the data of Random_error now... \n",
      "http://www.omdbapi.com/?t=Random_error&apikey=f7ccdee\n",
      "Error encountered:  Movie not found!\n"
     ]
    }
   ],
   "source": [
    "search_movie('Random_error')"
   ]
  },
  {
   "cell_type": "markdown",
   "id": "69058eaf",
   "metadata": {},
   "source": [
    "## 3. Connect to the Twitter API and do a simple data pull"
   ]
  },
  {
   "cell_type": "markdown",
   "id": "0b46a24a",
   "metadata": {},
   "source": [
    "#### a.  Using either the instructions from the book on connecting to an API or for help look here – pull back data searching for “Bellevue University” and “Data Science” (or something else you are interested in)"
   ]
  },
  {
   "cell_type": "code",
   "execution_count": 30,
   "id": "8180703e",
   "metadata": {},
   "outputs": [],
   "source": [
    "import twitter\n",
    "api = twitter.Api(consumer_key='YNFWBg8QykXbZnUzURmhOzImp',\n",
    "                  consumer_secret='86jACFCXxrLpeDwSPYG1lyAFsX7VSHaKNIaSiiA02zSDjvomvK',\n",
    "                  access_token_key=\"931926277-TEMs935w0EZUGa6D6C38Sfhu734b0dQZPD7b3Kyv\",\n",
    "                  access_token_secret=\"ByHg6ktWx8J1mwqEDr9kjEBqDC7sfoScV1fMAgwhaAaYS\")"
   ]
  },
  {
   "cell_type": "code",
   "execution_count": 31,
   "id": "a169407d",
   "metadata": {},
   "outputs": [
    {
     "name": "stdout",
     "output_type": "stream",
     "text": [
      "{\"created_at\": \"Wed Nov 07 12:16:22 +0000 2012\", \"default_profile\": true, \"favourites_count\": 1, \"followers_count\": 1, \"friends_count\": 83, \"geo_enabled\": true, \"id\": 931926277, \"id_str\": \"931926277\", \"location\": \"Austin, TX\", \"name\": \"Vasanthakumar kalaikkovan\", \"profile_background_color\": \"C0DEED\", \"profile_background_image_url\": \"http://abs.twimg.com/images/themes/theme1/bg.png\", \"profile_background_image_url_https\": \"https://abs.twimg.com/images/themes/theme1/bg.png\", \"profile_image_url\": \"http://pbs.twimg.com/profile_images/1356049384602001411/GzpIbgmB_normal.jpg\", \"profile_image_url_https\": \"https://pbs.twimg.com/profile_images/1356049384602001411/GzpIbgmB_normal.jpg\", \"profile_link_color\": \"1DA1F2\", \"profile_sidebar_border_color\": \"C0DEED\", \"profile_sidebar_fill_color\": \"DDEEF6\", \"profile_text_color\": \"333333\", \"profile_use_background_image\": true, \"screen_name\": \"vasanthkalai007\", \"withheld_in_countries\": []}\n"
     ]
    }
   ],
   "source": [
    "print(api.VerifyCredentials())"
   ]
  },
  {
   "cell_type": "code",
   "execution_count": 32,
   "id": "ffd07984",
   "metadata": {},
   "outputs": [
    {
     "data": {
      "text/plain": [
       "[Status(ID=1420958491397734401, ScreenName=KirkDBorne, Created=Fri Jul 30 04:04:39 +0000 2021, Text='This handy 6-page laminated guide is a concise desktop reference to key concepts behind #Python logic, syntax, and… https://t.co/Yc2bSjaTRJ'),\n",
       " Status(ID=1421116581384376320, ScreenName=NIH, Created=Fri Jul 30 14:32:50 +0000 2021, Text='#NIH’s 2021-2025 Strategic Plan will continue to advance the vision for biomedical research direction, capacity, &amp;… https://t.co/31rZJLD7qp'),\n",
       " Status(ID=1421017738760400900, ScreenName=DataCamp, Created=Fri Jul 30 08:00:04 +0000 2021, Text='Check out this list of #Python resources for the eight #statistics topics (with tutorials!) that you need to know t… https://t.co/sjTvvMHl8q'),\n",
       " Status(ID=1421593782395547649, ScreenName=TheCuriousLuke, Created=Sat Jul 31 22:09:04 +0000 2021, Text='RT @Udemy_Coupons1: Alteryx Masterclass for Data Analytics, ETL and Reporting https://t.co/BRxczZzXvy\\n\\n#MachineLearning. #BigData #Analytic…'),\n",
       " Status(ID=1421593780008935426, ScreenName=IoT_Technojeder, Created=Sat Jul 31 22:09:03 +0000 2021, Text='RT @KirkDBorne: Recent Data #Analytics #DataScience #AI #MachineLearning articles &amp; resources for #DataScientists at @DataScienceCtrl: http…'),\n",
       " Status(ID=1421593766582960135, ScreenName=blackhatbot1, Created=Sat Jul 31 22:09:00 +0000 2021, Text='RT @raja00710: No matter what you do but when it comes to coding tutorial you can’t run away from \\n@freeCodeCamp\\n Face with tears of joy. T…'),\n",
       " Status(ID=1421593754763501572, ScreenName=PythonExpertBot, Created=Sat Jul 31 22:08:57 +0000 2021, Text='RT @Udemy_Coupons1: Alteryx Masterclass for Data Analytics, ETL and Reporting https://t.co/BRxczZzXvy\\n\\n#MachineLearning. #BigData #Analytic…'),\n",
       " Status(ID=1421593753635131404, ScreenName=PythonExpertBot, Created=Sat Jul 31 22:08:57 +0000 2021, Text='RT @Udemy_Coupons1: GoF Design Patterns – Complete Course with Java Examples https://t.co/vqwlrCqGWF\\n\\n#MachineLearning. #BigData #Analytics…'),\n",
       " Status(ID=1421593752364257284, ScreenName=CoderRetweet, Created=Sat Jul 31 22:08:57 +0000 2021, Text='RT @Udemy_Coupons1: Selenium in Java – Setup Simple Test Automation Framework https://t.co/KCGGjv5dFM\\n\\n#MachineLearning. #BigData #Analytic…'),\n",
       " Status(ID=1421593729421373440, ScreenName=HdezReynier, Created=Sat Jul 31 22:08:51 +0000 2021, Text='RT @andi_staub: Compositional Learning is the Future of #MachineLearning\\n\\n#AI #datascience #stats #math #fintech #algorithms @WhiteheartVic…')]"
      ]
     },
     "execution_count": 32,
     "metadata": {},
     "output_type": "execute_result"
    }
   ],
   "source": [
    "api.GetSearch(term='datascience', since=2021-1-1, count=10)"
   ]
  },
  {
   "cell_type": "code",
   "execution_count": 33,
   "id": "982e0780",
   "metadata": {},
   "outputs": [
    {
     "data": {
      "text/plain": [
       "[Status(ID=1421163412663541772, ScreenName=RickyReyes24, Created=Fri Jul 30 17:38:56 +0000 2021, Text='RT @Bellevue_Soccer: Our Bruins and @Future_Kids1 at our Champions of Character Camp 🙌⚽️ @NAIA @BUBruins @BellevueU https://t.co/Zr2SsPiR4f'),\n",
       " Status(ID=1421162885238099973, ScreenName=Future_Kids1, Created=Fri Jul 30 17:36:50 +0000 2021, Text='RT @Bellevue_Soccer: Our Bruins and @Future_Kids1 at our Champions of Character Camp 🙌⚽️ @NAIA @BUBruins @BellevueU https://t.co/Zr2SsPiR4f'),\n",
       " Status(ID=1421162812206993410, ScreenName=G_Eags, Created=Fri Jul 30 17:36:33 +0000 2021, Text='RT @Bellevue_Soccer: Our Bruins and @Future_Kids1 at our Champions of Character Camp 🙌⚽️ @NAIA @BUBruins @BellevueU https://t.co/Zr2SsPiR4f'),\n",
       " Status(ID=1421159649655476226, ScreenName=mlivergood, Created=Fri Jul 30 17:23:59 +0000 2021, Text='RT @Bellevue_Soccer: Our Bruins and @Future_Kids1 at our Champions of Character Camp 🙌⚽️ @NAIA @BUBruins @BellevueU https://t.co/Zr2SsPiR4f'),\n",
       " Status(ID=1421159526171037696, ScreenName=Bellevue_Soccer, Created=Fri Jul 30 17:23:29 +0000 2021, Text='Our Bruins and @Future_Kids1 at our Champions of Character Camp 🙌⚽️ @NAIA @BUBruins @BellevueU https://t.co/Zr2SsPiR4f'),\n",
       " Status(ID=1421153715361402881, ScreenName=BellevueU, Created=Fri Jul 30 17:00:24 +0000 2021, Text='I feel more connected than ever before in an online learning environment! 💻🎓\\n\\n#QOTW: What has surprised you the mos… https://t.co/rJmYzpjaDG'),\n",
       " Status(ID=1420732452788588550, ScreenName=thadurans, Created=Thu Jul 29 13:06:27 +0000 2021, Text='@BellevueU I truly like the feeling of being apart of a family.'),\n",
       " Status(ID=1420441076234690567, ScreenName=DrEmadRahim, Created=Wed Jul 28 17:48:37 +0000 2021, Text='Wow, at a lost for words. I am honored to be named the 2021 LGS Alumni Achievement Award. Thank you everyone at… https://t.co/CgywPDtNnN'),\n",
       " Status(ID=1420419898442985478, ScreenName=thinmanx11, Created=Wed Jul 28 16:24:28 +0000 2021, Text='RT @BellevueU: We 💜 you all! \\n\\nWhat is your favorite thing about being a part of the Bruin community? 🐻 https://t.co/I1E3BqJdV4'),\n",
       " Status(ID=1420418461336051721, ScreenName=BellevueU, Created=Wed Jul 28 16:18:45 +0000 2021, Text='We 💜 you all! \\n\\nWhat is your favorite thing about being a part of the Bruin community? 🐻 https://t.co/I1E3BqJdV4')]"
      ]
     },
     "execution_count": 33,
     "metadata": {},
     "output_type": "execute_result"
    }
   ],
   "source": [
    "api.GetSearch(term='BellevueU', since=2021-1-1, count=10)"
   ]
  },
  {
   "cell_type": "markdown",
   "id": "819f9688",
   "metadata": {},
   "source": [
    "## 4. Using one of the datasets provided, or a dataset of your own, choose 3 of the following visualizations to complete."
   ]
  },
  {
   "cell_type": "code",
   "execution_count": 43,
   "id": "6c67a21e",
   "metadata": {},
   "outputs": [],
   "source": [
    "import matplotlib as plt\n",
    "import seaborn as sns\n",
    "import pandas as pd"
   ]
  },
  {
   "cell_type": "code",
   "execution_count": 44,
   "id": "0d9748f2",
   "metadata": {},
   "outputs": [],
   "source": [
    "df=pd.read_csv('visit_data.csv')"
   ]
  },
  {
   "cell_type": "code",
   "execution_count": 45,
   "id": "b00a1cb3",
   "metadata": {},
   "outputs": [
    {
     "data": {
      "text/html": [
       "<div>\n",
       "<style scoped>\n",
       "    .dataframe tbody tr th:only-of-type {\n",
       "        vertical-align: middle;\n",
       "    }\n",
       "\n",
       "    .dataframe tbody tr th {\n",
       "        vertical-align: top;\n",
       "    }\n",
       "\n",
       "    .dataframe thead th {\n",
       "        text-align: right;\n",
       "    }\n",
       "</style>\n",
       "<table border=\"1\" class=\"dataframe\">\n",
       "  <thead>\n",
       "    <tr style=\"text-align: right;\">\n",
       "      <th></th>\n",
       "      <th>id</th>\n",
       "      <th>first_name</th>\n",
       "      <th>last_name</th>\n",
       "      <th>email</th>\n",
       "      <th>gender</th>\n",
       "      <th>ip_address</th>\n",
       "      <th>visit</th>\n",
       "    </tr>\n",
       "  </thead>\n",
       "  <tbody>\n",
       "    <tr>\n",
       "      <th>0</th>\n",
       "      <td>1</td>\n",
       "      <td>Sonny</td>\n",
       "      <td>Dahl</td>\n",
       "      <td>sdahl0@mysql.com</td>\n",
       "      <td>Male</td>\n",
       "      <td>135.36.96.183</td>\n",
       "      <td>1225.0</td>\n",
       "    </tr>\n",
       "    <tr>\n",
       "      <th>1</th>\n",
       "      <td>2</td>\n",
       "      <td>NaN</td>\n",
       "      <td>NaN</td>\n",
       "      <td>dhoovart1@hud.gov</td>\n",
       "      <td>NaN</td>\n",
       "      <td>237.165.194.143</td>\n",
       "      <td>919.0</td>\n",
       "    </tr>\n",
       "    <tr>\n",
       "      <th>2</th>\n",
       "      <td>3</td>\n",
       "      <td>Gar</td>\n",
       "      <td>Armal</td>\n",
       "      <td>garmal2@technorati.com</td>\n",
       "      <td>NaN</td>\n",
       "      <td>166.43.137.224</td>\n",
       "      <td>271.0</td>\n",
       "    </tr>\n",
       "    <tr>\n",
       "      <th>3</th>\n",
       "      <td>4</td>\n",
       "      <td>Chiarra</td>\n",
       "      <td>Nulty</td>\n",
       "      <td>cnulty3@newyorker.com</td>\n",
       "      <td>NaN</td>\n",
       "      <td>139.98.137.108</td>\n",
       "      <td>1002.0</td>\n",
       "    </tr>\n",
       "    <tr>\n",
       "      <th>4</th>\n",
       "      <td>5</td>\n",
       "      <td>NaN</td>\n",
       "      <td>NaN</td>\n",
       "      <td>sleaver4@elegantthemes.com</td>\n",
       "      <td>NaN</td>\n",
       "      <td>46.117.117.27</td>\n",
       "      <td>2434.0</td>\n",
       "    </tr>\n",
       "  </tbody>\n",
       "</table>\n",
       "</div>"
      ],
      "text/plain": [
       "   id first_name last_name                       email gender  \\\n",
       "0   1      Sonny      Dahl            sdahl0@mysql.com   Male   \n",
       "1   2        NaN       NaN           dhoovart1@hud.gov    NaN   \n",
       "2   3        Gar     Armal      garmal2@technorati.com    NaN   \n",
       "3   4    Chiarra     Nulty       cnulty3@newyorker.com    NaN   \n",
       "4   5        NaN       NaN  sleaver4@elegantthemes.com    NaN   \n",
       "\n",
       "        ip_address   visit  \n",
       "0    135.36.96.183  1225.0  \n",
       "1  237.165.194.143   919.0  \n",
       "2   166.43.137.224   271.0  \n",
       "3   139.98.137.108  1002.0  \n",
       "4    46.117.117.27  2434.0  "
      ]
     },
     "execution_count": 45,
     "metadata": {},
     "output_type": "execute_result"
    }
   ],
   "source": [
    "df.head(5)"
   ]
  },
  {
   "cell_type": "markdown",
   "id": "d4ff429e",
   "metadata": {},
   "source": [
    "#### Scatter Plot"
   ]
  },
  {
   "cell_type": "code",
   "execution_count": 55,
   "id": "1cba5d24",
   "metadata": {},
   "outputs": [
    {
     "data": {
      "text/plain": [
       "<AxesSubplot:xlabel='id', ylabel='visit'>"
      ]
     },
     "execution_count": 55,
     "metadata": {},
     "output_type": "execute_result"
    },
    {
     "data": {
      "image/png": "[encoded data removed]",
      "text/plain": [
       "<Figure size 432x288 with 1 Axes>"
      ]
     },
     "metadata": {},
     "output_type": "display_data"
    }
   ],
   "source": [
    "sns.set(style='whitegrid')\n",
    " \n",
    "sns.scatterplot(x=\"id\",y=\"visit\",hue=\"gender\",data=df)"
   ]
  },
  {
   "cell_type": "markdown",
   "id": "cf358287",
   "metadata": {},
   "source": [
    "#### Histogram"
   ]
  },
  {
   "cell_type": "code",
   "execution_count": 60,
   "id": "14eb5355",
   "metadata": {},
   "outputs": [
    {
     "data": {
      "text/plain": [
       "<AxesSubplot:xlabel='visit', ylabel='Count'>"
      ]
     },
     "execution_count": 60,
     "metadata": {},
     "output_type": "execute_result"
    },
    {
     "data": {
      "image/png": "[encoded data removed]",
      "text/plain": [
       "<Figure size 432x288 with 1 Axes>"
      ]
     },
     "metadata": {},
     "output_type": "display_data"
    }
   ],
   "source": [
    "sns.set(style=\"darkgrid\")\n",
    "sns.histplot(data=df, x=\"visit\")"
   ]
  },
  {
   "cell_type": "code",
   "execution_count": 61,
   "id": "2645aa54",
   "metadata": {},
   "outputs": [
    {
     "name": "stderr",
     "output_type": "stream",
     "text": [
      "C:\\Users\\vasan\\anaconda3\\lib\\site-packages\\seaborn\\distributions.py:2557: FutureWarning: `distplot` is a deprecated function and will be removed in a future version. Please adapt your code to use either `displot` (a figure-level function with similar flexibility) or `histplot` (an axes-level function for histograms).\n",
      "  warnings.warn(msg, FutureWarning)\n"
     ]
    },
    {
     "data": {
      "text/plain": [
       "<AxesSubplot:xlabel='visit', ylabel='Density'>"
      ]
     },
     "execution_count": 61,
     "metadata": {},
     "output_type": "execute_result"
    },
    {
     "data": {
      "image/png": "[encoded data removed]",
      "text/plain": [
       "<Figure size 432x288 with 1 Axes>"
      ]
     },
     "metadata": {},
     "output_type": "display_data"
    }
   ],
   "source": [
    "sns.distplot(df['visit'], hist=True, kde=True, \n",
    "             bins=int(180/5), color = 'darkblue', \n",
    "             hist_kws={'edgecolor':'black'})"
   ]
  },
  {
   "cell_type": "code",
   "execution_count": null,
   "id": "78c262ef",
   "metadata": {},
   "outputs": [],
   "source": []
  }
 ],
 "metadata": {
  "kernelspec": {
   "display_name": "Python 3",
   "language": "python",
   "name": "python3"
  },
  "language_info": {
   "codemirror_mode": {
    "name": "ipython",
    "version": 3
   },
   "file_extension": ".py",
   "mimetype": "text/x-python",
   "name": "python",
   "nbconvert_exporter": "python",
   "pygments_lexer": "ipython3",
   "version": "3.6.13"
  }
 },
 "nbformat": 4,
 "nbformat_minor": 5
}
